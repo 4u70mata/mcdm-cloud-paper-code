{
 "cells": [
  {
   "cell_type": "markdown",
   "id": "fa42db91-eb79-4ac3-b75a-cf1496441f56",
   "metadata": {},
   "source": [
    "# An Integrated MCDM Approach for Cloud Service Selection Based on TOPSIS and BWM\n"
   ]
  },
  {
   "cell_type": "markdown",
   "id": "1f3957c4-0b78-4651-b549-aae53633a348",
   "metadata": {},
   "source": [
    "# BWC : Best-Worst "
   ]
  },
  {
   "cell_type": "code",
   "execution_count": 12,
   "id": "3458ea44-0f59-43e1-8201-8e08c7371a25",
   "metadata": {},
   "outputs": [
    {
     "name": "stdout",
     "output_type": "stream",
     "text": [
      "Help on built-in function sorted in module builtins:\n",
      "\n",
      "sorted(iterable, /, *, key=None, reverse=False)\n",
      "    Return a new list containing all items from the iterable in ascending order.\n",
      "\n",
      "    A custom key function can be supplied to customize the sort order, and the\n",
      "    reverse flag can be set to request the result in descending order.\n",
      "\n"
     ]
    }
   ],
   "source": [
    "help(sorted)"
   ]
  },
  {
   "cell_type": "code",
   "execution_count": 11,
   "id": "fd01655b-f795-4cdf-ac07-be9a99b0a03c",
   "metadata": {},
   "outputs": [
    {
     "data": {
      "text/plain": [
       "[('cost', 6),\n",
       " ('interoperability', 2),\n",
       " ('maintainability', 7),\n",
       " ('reliability', 4),\n",
       " ('response time', 3),\n",
       " ('scalability', 3),\n",
       " ('security', 1),\n",
       " ('sustainability', 9),\n",
       " ('usability', 4)]"
      ]
     },
     "execution_count": 11,
     "metadata": {},
     "output_type": "execute_result"
    }
   ],
   "source": [
    "sorted(compared2best.items())"
   ]
  },
  {
   "cell_type": "code",
   "execution_count": 9,
   "id": "f9639550-e22f-46aa-a3e6-b02686a172b8",
   "metadata": {},
   "outputs": [
    {
     "data": {
      "text/plain": [
       "(OrderedDict([('security', 1),\n",
       "              ('interoperability', 2),\n",
       "              ('scalability', 3),\n",
       "              ('response time', 3),\n",
       "              ('usability', 4),\n",
       "              ('reliability', 4),\n",
       "              ('cost', 6),\n",
       "              ('maintainability', 7),\n",
       "              ('sustainability', 9)]),\n",
       " OrderedDict([('sustainability', 1),\n",
       "              ('maintainability', 3),\n",
       "              ('scalability', 4),\n",
       "              ('usability', 5),\n",
       "              ('cost', 5),\n",
       "              ('interoperability', 6),\n",
       "              ('response time', 6),\n",
       "              ('reliability', 7),\n",
       "              ('security', 9)]))"
      ]
     },
     "execution_count": 9,
     "metadata": {},
     "output_type": "execute_result"
    }
   ],
   "source": [
    "from scipy.optimize import linprog\n",
    "import numpy as np\n",
    "from collections import OrderedDict\n",
    "compared2best  = dict({'scalability':3, 'sustainability':9, 'usability':4,  'interoperability':2, 'security':1, 'cost':6, 'maintainability':7, 'response time':3, 'reliability':4})\n",
    "compared2worst = dict({'scalability':4, 'sustainability':1, 'usability':5,  'interoperability':6, 'security':9, 'cost':5, 'maintainability':3, 'response time':6, 'reliability':7})\n",
    "\n",
    "cb = OrderedDict(); \n",
    "cw = OrderedDict();\n",
    "# allkeys = sorted(compared2best.keys());\n",
    "# print(allkeys)\n",
    "# for kk in allkeys:\n",
    "#     cb[kk] = compared2best[kk];\n",
    "#     cw[kk] = compared2worst[kk];\n",
    "\n",
    "cb = OrderedDict(sorted(compared2best.items(), key=lambda x: x[1]))\n",
    "cw = OrderedDict(sorted(compared2worst.items(), key=lambda x: x[1]))\n",
    "cb , cw"
   ]
  },
  {
   "cell_type": "code",
   "execution_count": 6,
   "id": "94a56bbe-05dc-43a4-a977-75cc9f22af1b",
   "metadata": {},
   "outputs": [],
   "source": [
    "import pandas as pd "
   ]
  },
  {
   "cell_type": "code",
   "execution_count": 11,
   "id": "dd9ae9e1-5f81-4693-8d84-cac9ea0181e5",
   "metadata": {},
   "outputs": [],
   "source": [
    "from scipy.optimize import linprog\n",
    "import numpy as np\n",
    "from collections import OrderedDict\n",
    "\n",
    "\n",
    "def calc_weight(compared2best, compared2worst):\n",
    "    cb = OrderedDict(); \n",
    "    cw = OrderedDict();\n",
    "    allkeys = sorted(compared2best.keys());\n",
    "    for kk in allkeys:\n",
    "        cb[kk] = compared2best[kk];\n",
    "        cw[kk] = compared2worst[kk];\n",
    "    colSize = np.size(allkeys);\n",
    "    rowSize = 4*colSize-5;\n",
    "    mat = np.zeros((rowSize-1, colSize+1), dtype=np.double);\n",
    "    bloc = 0; bkey='';\n",
    "    wloc = 0; wkey='';\n",
    "\n",
    "    # Obtenir l'emplacement du meilleur critère\n",
    "    bkey = min(compared2best, key=compared2best.get);\n",
    "    bloc = allkeys.index(bkey);\n",
    "    # Obtenir l'emplacement du pire critère\n",
    "    wkey = min(compared2worst, key=compared2worst.get);\n",
    "    wloc = allkeys.index(wkey);\n",
    "    cb_copy = cb.copy();\n",
    "    '''supprimer la clé correspondant au meilleur critère.\n",
    "    Les DEUX équations correspondant au meilleur critère\n",
    "    n'apparaissent pas dans le système d'équations lors de la comparaison de tous\n",
    "    les critères par rapport au meilleur '''\n",
    "    cb_copy.pop(bkey, None);\n",
    "    tmpmat = np.zeros((len(cb_copy.keys()), colSize+1), dtype=np.double);\n",
    "    tmpmat1 = np.zeros((len(cb_copy.keys()), colSize+1), dtype=np.double);\n",
    "    for idx in np.arange(len(cb_copy.keys())):\n",
    "        itmp = allkeys.index(list(cb_copy.keys())[idx]);\n",
    "        tmpmat[idx, bloc] = 1.0;\n",
    "        tmpmat[idx, itmp] = -cb_copy[list(cb_copy.keys())[idx]];\n",
    "        tmpmat[idx, colSize] = -1.0;\n",
    "    for idx in np.arange(len(cb_copy.keys())):\n",
    "        itmp = allkeys.index(list(cb_copy.keys())[idx]);\n",
    "        tmpmat1[idx, bloc] = -1.0;\n",
    "        tmpmat1[idx, itmp] = cb_copy[list(cb_copy.keys())[idx]];\n",
    "        tmpmat1[idx, colSize] = -1.0;\n",
    "    mat[0:2*colSize-2,:] = np.concatenate((tmpmat, tmpmat1), axis=0);\n",
    "#----------------------------------------------------------------------------------------\n",
    "    cw_copy = cw.copy();\n",
    "    '''supprimer les deux clés correspondant au meilleur et au pire critère.\n",
    "    Les QUATRE équations correspondant au meilleur et au pire critère\n",
    "    n'apparaissent pas dans le système d'équations lors de la comparaison de tous\n",
    "    les critères par rapport au pire '''\n",
    "    cw_copy.pop(bkey, None);\n",
    "    cw_copy.pop(wkey, None);\n",
    "    tmpmat  = np.zeros((len(cw_copy.keys()), colSize+1), dtype=np.double);\n",
    "    tmpmat1 = np.zeros((len(cw_copy.keys()), colSize+1), dtype=np.double);\n",
    "    for idx in np.arange(len(cw_copy.keys())):  \n",
    "        # trouver l'emplacement de la clé de cw_copy dans la liste des clés\n",
    "        itmp = allkeys.index(list(cw_copy.keys())[idx]);\n",
    "        tmpmat[idx, itmp] = 1;\n",
    "        tmpmat[idx, wloc] = -cw_copy[list(cw_copy.keys())[idx]];\n",
    "        tmpmat[idx, colSize] = -1.0;\n",
    "    for idx in np.arange(len(cw_copy.keys())):  \n",
    "        # trouver l'emplacement de la clé de cw_copy dans la liste des clés\n",
    "        itmp = allkeys.index(list(cw_copy.keys())[idx]);\n",
    "        tmpmat1[idx, itmp] = -1;\n",
    "        tmpmat1[idx, wloc] = cw_copy[list(cw_copy.keys())[idx]];\n",
    "        tmpmat1[idx, colSize] = -1.0;\n",
    "    mat[2*colSize-2:,:] = np.concatenate((tmpmat, tmpmat1), axis=0);\n",
    "    Aeq = np.ones((1, colSize+1), dtype=np.double);\n",
    "    Aeq[0,-1] = 0.;\n",
    "    beq = np.array([1]); \n",
    "    bub = np.zeros((rowSize-1), dtype=np.double);\n",
    "    cc = np.zeros((colSize+1), dtype=np.double)\n",
    "    cc[-1] = 1; \n",
    "    res = linprog(cc, A_eq=Aeq, b_eq=beq, A_ub=mat, b_ub=bub, \\\n",
    "                  bounds=(0, None), options={\"disp\": False});\n",
    "    sol1 = res['x'];\n",
    "    outp = dict();\n",
    "    ii = 0;\n",
    "    if 'cost' in allkeys:\n",
    "        allKeys = ['cost', 'interoperability', 'maintainability', 'reliability', 'response time', 'scalability', 'security', 'sustainability', 'usability']\n",
    "        C = ['C6', 'C4', 'C7', 'C9', 'C8', 'C1', 'C5', 'C2', 'C3']\n",
    "        for x in allKeys:\n",
    "            outp[x] = sol1[ii].item();    \n",
    "            ii += 1;\n",
    "        original_dict =outp  # Création d'un nouveau dictionnaire avec des clés basées sur l'ordre de la liste C\n",
    "        new_dict = {C[i]: original_dict[key] for i, key in enumerate(allKeys)}\n",
    "        sorted_dict = dict(sorted(new_dict.items()))\n",
    "        return((sorted_dict, sol1[-1].item()))\n",
    "    for x in allkeys:\n",
    "        outp[x] = sol1[ii].item();    \n",
    "        ii += 1;\n",
    "    original_dict =outp  # Création d'un nouveau dictionnaire avec des clés basées sur l'ordre de la liste C\n",
    "    # new_dict = {C[i]: original_dict[key] for i, key in enumerate(allKeys)}\n",
    "    # _dict = dict(sorted(original_dict.items()))\n",
    "\n",
    "    return((original_dict, sol1[-1].item()))\n"
   ]
  },
  {
   "cell_type": "markdown",
   "id": "133a3792-35a5-4a9e-9fa5-e2c6afd7dd88",
   "metadata": {},
   "source": [
    "## Exemple des deux vecteurs illustré dans l article : "
   ]
  },
  {
   "cell_type": "code",
   "execution_count": 13,
   "id": "8cd2acd8-caa5-45bd-934f-3d5b15e69ffd",
   "metadata": {},
   "outputs": [
    {
     "name": "stdout",
     "output_type": "stream",
     "text": [
      "Poids: \n",
      " {'C1': 0.11758261822165422, 'C2': 0.023005294869454074, 'C3': 0.08818696366624057, 'C4': 0.1763739273324813, 'C5': 0.27989775424502455, 'C6': 0.058791309110827195, 'C7': 0.0503925506664233, 'C8': 0.11758261822165414, 'C9': 0.08818696366624063}\n",
      "\n",
      "Somme(Poids):     1.0\n",
      "Consistence:      0.0728501004199379\n"
     ]
    }
   ],
   "source": [
    "\n",
    "compared2best  = dict({'scalability':3, 'sustainability':9, 'usability':4,  'interoperability':2, 'security':1, 'cost':6, 'maintainability':7, 'response time':3, 'reliability':4})\n",
    "compared2worst = dict({'scalability':4, 'sustainability':1, 'usability':5,  'interoperability':6, 'security':9, 'cost':5, 'maintainability':3, 'response time':6, 'reliability':7})\n",
    "w, zeta = calc_weight(compared2best, compared2worst)\n",
    "# sorted_dict = dict(sorted(w.items()))\n",
    "W_ = np.array(list(w.values()))\n",
    "print(\"Poids: \\n\", w);\n",
    "print(\"\\nSomme(Poids):    \", np.sum(list(w.values())));\n",
    "print('Consistence:      {0}'.format(zeta));"
   ]
  },
  {
   "cell_type": "code",
   "execution_count": 14,
   "id": "4df012d4-493d-4fc7-9458-22db5bb03f72",
   "metadata": {},
   "outputs": [],
   "source": [
    "# Matrice SB to Others et Matrice SW to others :\n",
    "matrixW = np.array([[4,3,9,6,6,6,5,1,6],\n",
    "                  [9,4,4,3,4,2,1,4,3],\n",
    "                  [5,5,3,2,1,3,4,3,2],\n",
    "                  [2,9,6,8,9,1,6,2,4],\n",
    "                  [6,1,5,9,5,4,3,5,9],\n",
    "                  [1,6,4,4,4,9,2,7,4],\n",
    "                  [3,3,1,1,3,7,5,9,1],\n",
    "                  [7,2,5,5,2,5,9,6,5]])\n",
    "\n",
    "matrixB = np.array([[3,2,1,6,5,2,6,9,6],\n",
    "[1,5,3,7,2,4,9,2,7],\n",
    "[2,4,7,4,9,6,4,4,5],\n",
    "[4,1,6,8,1,9,3,2,4],\n",
    "[3,9,2,1,4,8,5,5,1],\n",
    "[9,3,3,2,3,1,4,3,2],\n",
    "[5,6,9,9,5,5,3,1,9],\n",
    "[6,5,5,5,6,3,1,6,5]])\n",
    "T_matrixW = matrixW.T\n",
    "T_matrixB = matrixB.T"
   ]
  },
  {
   "cell_type": "code",
   "execution_count": 15,
   "id": "ab860c0c-256c-48a7-bcc5-d86ef2307f8f",
   "metadata": {},
   "outputs": [
    {
     "name": "stdout",
     "output_type": "stream",
     "text": [
      "{'s1': 3, 's2': 1, 's3': 2, 's4': 4, 's5': 3, 's6': 9, 's7': 5, 's8': 6}\n",
      "{'s1': 4, 's2': 9, 's3': 5, 's4': 2, 's5': 6, 's6': 1, 's7': 3, 's8': 7}\n"
     ]
    }
   ],
   "source": [
    "\n",
    "LW = [3, 1, 2, 4, 3, 9, 5, 6]\n",
    "LB = [4, 9, 5, 2, 6, 1, 3, 7]\n",
    "def to_dictio(Li):\n",
    "    dict_ = {}\n",
    "    for i,x in enumerate(Li):\n",
    "        dict_['s' +str(i+1)] = x\n",
    "    print(dict_)\n",
    "    return dict_\n",
    "    \n",
    "dict_W = to_dictio(Li = LW)\n",
    "dict_B = to_dictio(Li = LB)"
   ]
  },
  {
   "cell_type": "code",
   "execution_count": 16,
   "id": "915c77f9-38aa-4730-a169-f6485d255a42",
   "metadata": {},
   "outputs": [
    {
     "name": "stdout",
     "output_type": "stream",
     "text": [
      "Poids: \n",
      " {'s1': 0.12809802283486485, 's2': 0.2923976608187135, 's3': 0.1921470342522975, 's4': 0.09607351712614864, 's5': 0.128098022834865, 's6': 0.022277917014759112, 's7': 0.076858813700919, 's8': 0.0640490114174325}\n",
      "\n",
      "Somme(Poids):     1.0\n",
      "Consistence:      0.09189640768588138\n"
     ]
    }
   ],
   "source": [
    "# Comparaison des deux vecteurs : \n",
    "compared2best2  = dict({'s1': 3, 's2': 1, 's3': 2, 's4': 4, 's5': 3, 's6': 9, 's7': 5, 's8': 6})\n",
    "compared2worst2 = dict({'s1': 4, 's2': 9, 's3': 5, 's4': 2, 's5': 6, 's6': 1, 's7': 3, 's8': 7})\n",
    "w2, zeta2 = calc_weight(compared2best2, compared2worst2)\n",
    "# sorted_dict = dict(sorted(w.items()))\n",
    "print(\"Poids: \\n\", w2);\n",
    "print(\"\\nSomme(Poids):    \", np.sum(list(w2.values())));\n",
    "print('Consistence:      {0}'.format(zeta2));"
   ]
  },
  {
   "cell_type": "markdown",
   "id": "afa1ccd8-7300-476e-8823-a8174641c041",
   "metadata": {},
   "source": [
    "### Matrice de decision A  table 11"
   ]
  },
  {
   "cell_type": "code",
   "execution_count": null,
   "id": "17ae9eb3-cc60-4ef0-89b3-0d5b74747580",
   "metadata": {},
   "outputs": [],
   "source": []
  },
  {
   "cell_type": "code",
   "execution_count": 17,
   "id": "f060dcc4-56f4-4d32-bcb1-d1c36df7a6e6",
   "metadata": {},
   "outputs": [
    {
     "name": "stdout",
     "output_type": "stream",
     "text": [
      "{'s1': 4, 's2': 9, 's3': 5, 's4': 2, 's5': 6, 's6': 1, 's7': 3, 's8': 7}\n",
      "{'s1': 3, 's2': 1, 's3': 2, 's4': 4, 's5': 3, 's6': 9, 's7': 5, 's8': 6}\n",
      "Poids: \n",
      " {'s1': 0.12809802283486485, 's2': 0.2923976608187135, 's3': 0.1921470342522975, 's4': 0.09607351712614864, 's5': 0.128098022834865, 's6': 0.022277917014759112, 's7': 0.076858813700919, 's8': 0.0640490114174325}\n",
      "\n",
      "Somme(Poids):     1.0\n",
      "Consistence:      0.09189640768588138\n",
      "{'s1': 3, 's2': 4, 's3': 5, 's4': 9, 's5': 1, 's6': 6, 's7': 3, 's8': 2}\n",
      "{'s1': 2, 's2': 5, 's3': 4, 's4': 1, 's5': 9, 's6': 3, 's7': 6, 's8': 5}\n",
      "Poids: \n",
      " {'s1': 0.1547491995731056, 's2': 0.08110992529348991, 's3': 0.10138740661686232, 's4': 0.34685165421558184, 's5': 0.032017075773746004, 's6': 0.13518320882248291, 's7': 0.06759160441124143, 's8': 0.08110992529348994}\n",
      "\n",
      "Somme(Poids):     0.9999999999999999\n",
      "Consistence:      0.058697972251867674\n",
      "{'s1': 9, 's2': 4, 's3': 3, 's4': 6, 's5': 5, 's6': 4, 's7': 1, 's8': 5}\n",
      "{'s1': 1, 's2': 3, 's3': 7, 's4': 6, 's5': 2, 's6': 3, 's7': 9, 's8': 5}\n",
      "Poids: \n",
      " {'s1': 0.31112507856693883, 's2': 0.13199245757385297, 's3': 0.05656819610308016, 's4': 0.06599622878692643, 's5': 0.19798868636077938, 's6': 0.1319924575738529, 's7': 0.025141420490257683, 's8': 0.07919547454431161}\n",
      "\n",
      "Somme(Poids):     1.0\n",
      "Consistence:      0.0848522941546197\n",
      "{'s1': 6, 's2': 3, 's3': 2, 's4': 8, 's5': 9, 's6': 4, 's7': 1, 's8': 5}\n",
      "{'s1': 6, 's2': 7, 's3': 4, 's4': 8, 's5': 1, 's6': 2, 's7': 9, 's8': 5}\n",
      "Poids: \n",
      " {'s1': 0.07808142777467908, 's2': 0.06692693809258214, 's3': 0.11712214166201908, 's4': 0.05856107083100949, 's5': 0.33965421081985514, 's6': 0.2225320691578362, 's7': 0.023424428332403796, 's8': 0.09369771332961523}\n",
      "\n",
      "Somme(Poids):     1.0000000000000002\n",
      "Consistence:      0.1288343558282209\n",
      "{'s1': 6, 's2': 4, 's3': 1, 's4': 9, 's5': 5, 's6': 4, 's7': 3, 's8': 2}\n",
      "{'s1': 5, 's2': 2, 's3': 9, 's4': 1, 's5': 4, 's6': 3, 's7': 5, 's8': 6}\n",
      "Poids: \n",
      " {'s1': 0.08053691275167789, 's2': 0.18791946308724813, 's3': 0.02684563758389263, 's4': 0.3221476510067115, 's5': 0.10067114093959723, 's6': 0.1342281879194633, 's7': 0.08053691275167785, 's8': 0.0671140939597315}\n",
      "\n",
      "Somme(Poids):     1.0\n",
      "Consistence:      0.08053691275167787\n",
      "{'s1': 6, 's2': 2, 's3': 3, 's4': 1, 's5': 4, 's6': 9, 's7': 7, 's8': 5}\n",
      "{'s1': 2, 's2': 4, 's3': 6, 's4': 9, 's5': 8, 's6': 1, 's7': 5, 's8': 3}\n",
      "Poids: \n",
      " {'s1': 0.207487595850248, 's2': 0.10374379792512402, 's3': 0.06916253195008265, 's4': 0.025259359494812818, 's5': 0.05187189896256202, 's6': 0.32115471357690595, 's7': 0.08299503834009926, 's8': 0.13832506390016533}\n",
      "\n",
      "Somme(Poids):     1.0\n",
      "Consistence:      0.09382047812359044\n",
      "{'s1': 5, 's2': 1, 's3': 4, 's4': 6, 's5': 3, 's6': 2, 's7': 5, 's8': 9}\n",
      "{'s1': 6, 's2': 9, 's3': 4, 's4': 3, 's5': 5, 's6': 4, 's7': 3, 's8': 1}\n",
      "Poids: \n",
      " {'s1': 0.06889050036258162, 's2': 0.029006526468455404, 's3': 0.10333575054387244, 's4': 0.13778100072516328, 's5': 0.08266860043509763, 's6': 0.10333575054387223, 's7': 0.13778100072516336, 's8': 0.33720087019579403}\n",
      "\n",
      "Somme(Poids):     1.0\n",
      "Consistence:      0.07614213197969542\n",
      "{'s1': 1, 's2': 4, 's3': 3, 's4': 2, 's5': 5, 's6': 7, 's7': 9, 's8': 6}\n",
      "{'s1': 9, 's2': 2, 's3': 4, 's4': 2, 's5': 5, 's6': 3, 's7': 1, 's8': 6}\n",
      "Poids: \n",
      " {'s1': 0.024338302403407362, 's2': 0.1794949802251292, 's3': 0.09583206571341682, 's4': 0.1308183754183144, 's5': 0.07666565257073327, 's6': 0.12777608761788856, 's7': 0.301186492242166, 's8': 0.06388804380894432}\n",
      "\n",
      "Somme(Poids):     0.9999999999999999\n",
      "Consistence:      0.08214177061149983\n",
      "{'s1': 6, 's2': 3, 's3': 2, 's4': 4, 's5': 9, 's6': 4, 's7': 1, 's8': 5}\n",
      "{'s1': 6, 's2': 7, 's3': 5, 's4': 4, 's5': 1, 's6': 2, 's7': 9, 's8': 5}\n",
      "Poids: \n",
      " {'s1': 0.073196235622168, 's2': 0.06273963053328685, 's3': 0.08783548274660162, 's4': 0.10979435343325206, 's5': 0.3450679679330776, 's6': 0.20564656674799583, 's7': 0.027884280237016366, 's8': 0.08783548274660162}\n",
      "\n",
      "Somme(Poids):     1.0\n",
      "Consistence:      0.09410944579993029\n"
     ]
    }
   ],
   "source": [
    "L=[]\n",
    "ZETA = []\n",
    "for LW,LB in zip(T_matrixW,T_matrixB):\n",
    "    dict_W = to_dictio(Li = LW)\n",
    "    dict_B = to_dictio(Li = LB)\n",
    "    compared2best2  = dict_B\n",
    "    compared2worst2 = dict_W\n",
    "    w2, zeta2 = calc_weight(compared2best2, compared2worst2)\n",
    "    print(\"Poids: \\n\", w2);\n",
    "    print(\"\\nSomme(Poids):    \", np.sum(list(w2.values())));\n",
    "    print('Consistence:      {0}'.format(zeta2));\n",
    "    ZETA.append(zeta2)\n",
    "    L.append(np.array(list(w2.values())))\n",
    "   "
   ]
  },
  {
   "cell_type": "code",
   "execution_count": 20,
   "id": "80c04a3f-24c3-40f6-aab9-505f5498f859",
   "metadata": {},
   "outputs": [
    {
     "data": {
      "text/html": [
       "<div>\n",
       "<style scoped>\n",
       "    .dataframe tbody tr th:only-of-type {\n",
       "        vertical-align: middle;\n",
       "    }\n",
       "\n",
       "    .dataframe tbody tr th {\n",
       "        vertical-align: top;\n",
       "    }\n",
       "\n",
       "    .dataframe thead th {\n",
       "        text-align: right;\n",
       "    }\n",
       "</style>\n",
       "<table border=\"1\" class=\"dataframe\">\n",
       "  <thead>\n",
       "    <tr style=\"text-align: right;\">\n",
       "      <th></th>\n",
       "      <th>0</th>\n",
       "      <th>1</th>\n",
       "      <th>2</th>\n",
       "      <th>3</th>\n",
       "      <th>4</th>\n",
       "      <th>5</th>\n",
       "      <th>6</th>\n",
       "      <th>7</th>\n",
       "      <th>8</th>\n",
       "    </tr>\n",
       "  </thead>\n",
       "  <tbody>\n",
       "    <tr>\n",
       "      <th>0</th>\n",
       "      <td>12.809802</td>\n",
       "      <td>15.474920</td>\n",
       "      <td>31.112508</td>\n",
       "      <td>7.808143</td>\n",
       "      <td>8.053691</td>\n",
       "      <td>20.748760</td>\n",
       "      <td>6.889050</td>\n",
       "      <td>2.433830</td>\n",
       "      <td>7.319624</td>\n",
       "    </tr>\n",
       "    <tr>\n",
       "      <th>1</th>\n",
       "      <td>29.239766</td>\n",
       "      <td>8.110993</td>\n",
       "      <td>13.199246</td>\n",
       "      <td>6.692694</td>\n",
       "      <td>18.791946</td>\n",
       "      <td>10.374380</td>\n",
       "      <td>2.900653</td>\n",
       "      <td>17.949498</td>\n",
       "      <td>6.273963</td>\n",
       "    </tr>\n",
       "    <tr>\n",
       "      <th>2</th>\n",
       "      <td>19.214703</td>\n",
       "      <td>10.138741</td>\n",
       "      <td>5.656820</td>\n",
       "      <td>11.712214</td>\n",
       "      <td>2.684564</td>\n",
       "      <td>6.916253</td>\n",
       "      <td>10.333575</td>\n",
       "      <td>9.583207</td>\n",
       "      <td>8.783548</td>\n",
       "    </tr>\n",
       "    <tr>\n",
       "      <th>3</th>\n",
       "      <td>9.607352</td>\n",
       "      <td>34.685165</td>\n",
       "      <td>6.599623</td>\n",
       "      <td>5.856107</td>\n",
       "      <td>32.214765</td>\n",
       "      <td>2.525936</td>\n",
       "      <td>13.778100</td>\n",
       "      <td>13.081838</td>\n",
       "      <td>10.979435</td>\n",
       "    </tr>\n",
       "    <tr>\n",
       "      <th>4</th>\n",
       "      <td>12.809802</td>\n",
       "      <td>3.201708</td>\n",
       "      <td>19.798869</td>\n",
       "      <td>33.965421</td>\n",
       "      <td>10.067114</td>\n",
       "      <td>5.187190</td>\n",
       "      <td>8.266860</td>\n",
       "      <td>7.666565</td>\n",
       "      <td>34.506797</td>\n",
       "    </tr>\n",
       "    <tr>\n",
       "      <th>5</th>\n",
       "      <td>2.227792</td>\n",
       "      <td>13.518321</td>\n",
       "      <td>13.199246</td>\n",
       "      <td>22.253207</td>\n",
       "      <td>13.422819</td>\n",
       "      <td>32.115471</td>\n",
       "      <td>10.333575</td>\n",
       "      <td>12.777609</td>\n",
       "      <td>20.564657</td>\n",
       "    </tr>\n",
       "    <tr>\n",
       "      <th>6</th>\n",
       "      <td>7.685881</td>\n",
       "      <td>6.759160</td>\n",
       "      <td>2.514142</td>\n",
       "      <td>2.342443</td>\n",
       "      <td>8.053691</td>\n",
       "      <td>8.299504</td>\n",
       "      <td>13.778100</td>\n",
       "      <td>30.118649</td>\n",
       "      <td>2.788428</td>\n",
       "    </tr>\n",
       "    <tr>\n",
       "      <th>7</th>\n",
       "      <td>6.404901</td>\n",
       "      <td>8.110993</td>\n",
       "      <td>7.919547</td>\n",
       "      <td>9.369771</td>\n",
       "      <td>6.711409</td>\n",
       "      <td>13.832506</td>\n",
       "      <td>33.720087</td>\n",
       "      <td>6.388804</td>\n",
       "      <td>8.783548</td>\n",
       "    </tr>\n",
       "  </tbody>\n",
       "</table>\n",
       "</div>"
      ],
      "text/plain": [
       "           0          1          2          3          4          5  \\\n",
       "0  12.809802  15.474920  31.112508   7.808143   8.053691  20.748760   \n",
       "1  29.239766   8.110993  13.199246   6.692694  18.791946  10.374380   \n",
       "2  19.214703  10.138741   5.656820  11.712214   2.684564   6.916253   \n",
       "3   9.607352  34.685165   6.599623   5.856107  32.214765   2.525936   \n",
       "4  12.809802   3.201708  19.798869  33.965421  10.067114   5.187190   \n",
       "5   2.227792  13.518321  13.199246  22.253207  13.422819  32.115471   \n",
       "6   7.685881   6.759160   2.514142   2.342443   8.053691   8.299504   \n",
       "7   6.404901   8.110993   7.919547   9.369771   6.711409  13.832506   \n",
       "\n",
       "           6          7          8  \n",
       "0   6.889050   2.433830   7.319624  \n",
       "1   2.900653  17.949498   6.273963  \n",
       "2  10.333575   9.583207   8.783548  \n",
       "3  13.778100  13.081838  10.979435  \n",
       "4   8.266860   7.666565  34.506797  \n",
       "5  10.333575  12.777609  20.564657  \n",
       "6  13.778100  30.118649   2.788428  \n",
       "7  33.720087   6.388804   8.783548  "
      ]
     },
     "execution_count": 20,
     "metadata": {},
     "output_type": "execute_result"
    }
   ],
   "source": [
    "M= np.array(L).T *100\n",
    "df = pd.DataFrame(M)\n",
    "df\n",
    "#df.to_csv('A matrice decision.csv') # enregistrer "
   ]
  },
  {
   "cell_type": "code",
   "execution_count": 21,
   "id": "89d39e18-c109-42fb-a56b-3072895681a0",
   "metadata": {},
   "outputs": [
    {
     "data": {
      "text/html": [
       "<div>\n",
       "<style scoped>\n",
       "    .dataframe tbody tr th:only-of-type {\n",
       "        vertical-align: middle;\n",
       "    }\n",
       "\n",
       "    .dataframe tbody tr th {\n",
       "        vertical-align: top;\n",
       "    }\n",
       "\n",
       "    .dataframe thead th {\n",
       "        text-align: right;\n",
       "    }\n",
       "</style>\n",
       "<table border=\"1\" class=\"dataframe\">\n",
       "  <thead>\n",
       "    <tr style=\"text-align: right;\">\n",
       "      <th></th>\n",
       "      <th>0</th>\n",
       "    </tr>\n",
       "  </thead>\n",
       "  <tbody>\n",
       "    <tr>\n",
       "      <th>0</th>\n",
       "      <td>0.117583</td>\n",
       "    </tr>\n",
       "    <tr>\n",
       "      <th>1</th>\n",
       "      <td>0.023005</td>\n",
       "    </tr>\n",
       "    <tr>\n",
       "      <th>2</th>\n",
       "      <td>0.088187</td>\n",
       "    </tr>\n",
       "    <tr>\n",
       "      <th>3</th>\n",
       "      <td>0.176374</td>\n",
       "    </tr>\n",
       "    <tr>\n",
       "      <th>4</th>\n",
       "      <td>0.279898</td>\n",
       "    </tr>\n",
       "    <tr>\n",
       "      <th>5</th>\n",
       "      <td>0.058791</td>\n",
       "    </tr>\n",
       "    <tr>\n",
       "      <th>6</th>\n",
       "      <td>0.050393</td>\n",
       "    </tr>\n",
       "    <tr>\n",
       "      <th>7</th>\n",
       "      <td>0.117583</td>\n",
       "    </tr>\n",
       "    <tr>\n",
       "      <th>8</th>\n",
       "      <td>0.088187</td>\n",
       "    </tr>\n",
       "  </tbody>\n",
       "</table>\n",
       "</div>"
      ],
      "text/plain": [
       "          0\n",
       "0  0.117583\n",
       "1  0.023005\n",
       "2  0.088187\n",
       "3  0.176374\n",
       "4  0.279898\n",
       "5  0.058791\n",
       "6  0.050393\n",
       "7  0.117583\n",
       "8  0.088187"
      ]
     },
     "execution_count": 21,
     "metadata": {},
     "output_type": "execute_result"
    }
   ],
   "source": [
    "T_W= W_.T \n",
    "W_df = pd.DataFrame(T_W)\n",
    "W_df"
   ]
  },
  {
   "cell_type": "code",
   "execution_count": 22,
   "id": "0e548e49-861c-478a-b2fc-63794351df97",
   "metadata": {},
   "outputs": [
    {
     "data": {
      "text/plain": [
       "array([0.11758262, 0.02300529, 0.08818696, 0.17637393, 0.27989775,\n",
       "       0.05879131, 0.05039255, 0.11758262, 0.08818696])"
      ]
     },
     "execution_count": 22,
     "metadata": {},
     "output_type": "execute_result"
    }
   ],
   "source": [
    "T_W"
   ]
  },
  {
   "cell_type": "code",
   "execution_count": 23,
   "id": "0fca5542-fdba-4353-a8aa-76dceea81f84",
   "metadata": {},
   "outputs": [
    {
     "data": {
      "text/plain": [
       "array([[1.50621009, 0.3560051 , 2.7437176 , 1.37715281, 2.2542101 ,\n",
       "        1.21984674, 0.3471568 , 0.28617613, 0.64549538],\n",
       "       [3.43808825, 0.18659577, 1.16400141, 1.18041669, 5.25982357,\n",
       "        0.60992337, 0.14617129, 2.11054897, 0.55328175],\n",
       "       [2.25931514, 0.23324472, 0.49885775, 2.06572921, 0.75140337,\n",
       "        0.40661558, 0.5207352 , 1.12681852, 0.77459445],\n",
       "       [1.12965757, 0.79794246, 0.5820007 , 1.03286461, 9.01684041,\n",
       "        0.14850308, 0.69431361, 1.53819671, 0.96824307],\n",
       "       [1.50621009, 0.07365623, 1.74600211, 5.99061471, 2.81776263,\n",
       "        0.30496168, 0.41658816, 0.90145482, 3.04304964],\n",
       "       [0.26194958, 0.31099296, 1.16400141, 3.9248855 , 3.75701684,\n",
       "        1.8881106 , 0.5207352 , 1.50242469, 1.81353463],\n",
       "       [0.90372605, 0.15549648, 0.22171455, 0.41314584, 2.2542101 ,\n",
       "        0.4879387 , 0.69431361, 3.54142963, 0.245903  ],\n",
       "       [0.75310505, 0.18659577, 0.69840084, 1.65258337, 1.87850842,\n",
       "        0.81323116, 1.69924119, 0.75121235, 0.77459445]])"
      ]
     },
     "execution_count": 23,
     "metadata": {},
     "output_type": "execute_result"
    }
   ],
   "source": [
    "\n",
    "# matrix A (8 by 9)\n",
    "A = M\n",
    "# vector V ( 9)\n",
    "V = T_W\n",
    "\n",
    "#  multiplication\n",
    "result = A * V\n",
    "# Print the result\n",
    "result"
   ]
  },
  {
   "cell_type": "code",
   "execution_count": 26,
   "id": "3202501f-ced9-4e6b-8a2c-352e65784642",
   "metadata": {},
   "outputs": [
    {
     "name": "stdout",
     "output_type": "stream",
     "text": [
      "Max : [3.43808825 0.79794246 2.7437176  5.99061471 9.01684041 1.8881106\n",
      " 1.69924119 3.54142963 3.04304964]\n",
      "Min : [0.26194958 0.07365623 0.22171455 0.41314584 0.75140337 0.14850308\n",
      " 0.14617129 0.28617613 0.245903  ]\n"
     ]
    }
   ],
   "source": [
    "# max of col \n",
    "max_values = np.max(result, axis=0)\n",
    "\n",
    "# min of col \n",
    "min_values = np.min(result, axis=0)\n",
    "\n",
    "# result\n",
    "print(\"Max :\", max_values)\n",
    "print(\"Min :\", min_values)"
   ]
  },
  {
   "cell_type": "code",
   "execution_count": 27,
   "id": "aa931325-6fcc-4c1a-8554-0079105146db",
   "metadata": {},
   "outputs": [
    {
     "name": "stdout",
     "output_type": "stream",
     "text": [
      "Distances Euclidiennes depuis la Solution Idéale Positive :\n",
      " [ 9.46384234  7.23979149 10.24840966  6.85091501  7.40282187  7.19802652\n",
      " 10.04151112  9.77890929]\n",
      "Distances Euclidiennes depuis la Solution Idéale Négative :\n",
      " [3.53892476 5.96144283 2.83123511 8.51461128 6.89563906 5.42342354\n",
      " 3.69991282 2.57632547]\n"
     ]
    }
   ],
   "source": [
    "\n",
    "# vecteur v+ et v-\n",
    "v_plus = max_values\n",
    "v_minus = min_values\n",
    "# différences au carré\n",
    "squared_diff_plus = (result - v_plus) ** 2\n",
    "squared_diff_min = (result - v_minus) ** 2\n",
    "# pour chaque CSP\n",
    "sum_squared_diff_plus = np.sum(squared_diff_plus, axis=1)\n",
    "distances_euclidiennes_plus = np.sqrt(sum_squared_diff_plus)\n",
    "sum_squared_diff_min = np.sum(squared_diff_min, axis=1)\n",
    "distances_euclidiennes_min = np.sqrt(sum_squared_diff_min)\n",
    "\n",
    "# Afficher le vecteur résultant des distances euclidiennes\n",
    "print(\"Distances Euclidiennes depuis la Solution Idéale Positive :\\n\", distances_euclidiennes_plus)\n",
    "print(\"Distances Euclidiennes depuis la Solution Idéale Négative :\\n\", distances_euclidiennes_min)"
   ]
  },
  {
   "cell_type": "code",
   "execution_count": 29,
   "id": "06879189-7ecb-4f25-a05b-84bd5f17a64c",
   "metadata": {},
   "outputs": [
    {
     "name": "stdout",
     "output_type": "stream",
     "text": [
      "Classement des CSPs basé sur les distances euclidiennes :\n",
      "\t [27.21670498 45.15822298 21.64611624 55.41373018 48.22644266 42.96989266\n",
      " 26.92525048 20.85209644]\n",
      "\n",
      "Classement finale :\t [4 5 2 6 1 7 3 8]\n"
     ]
    }
   ],
   "source": [
    "# Rank\n",
    "relation_R = distances_euclidiennes_min / (distances_euclidiennes_min + distances_euclidiennes_plus)\n",
    "indices_tries_R = np.argsort(relation_R)[::-1]\n",
    "\n",
    "# Afficher le résultat du classement\n",
    "print(\"Classement des CSPs basé sur les distances euclidiennes :\\n\\t\", relation_R*100)\n",
    "deduced_rank = indices_tries_R + 1\n",
    "print(\"\\nClassement finale :\\t\",deduced_rank)"
   ]
  },
  {
   "cell_type": "code",
   "execution_count": 30,
   "id": "ddd573a8-a39f-4a58-a816-af07a4976bf4",
   "metadata": {},
   "outputs": [
    {
     "data": {
      "text/plain": [
       "[0.09189640768588138,\n",
       " 0.058697972251867674,\n",
       " 0.0848522941546197,\n",
       " 0.1288343558282209,\n",
       " 0.08053691275167787,\n",
       " 0.09382047812359044,\n",
       " 0.07614213197969542,\n",
       " 0.08214177061149983,\n",
       " 0.09410944579993029]"
      ]
     },
     "execution_count": 30,
     "metadata": {},
     "output_type": "execute_result"
    }
   ],
   "source": [
    "ZETA "
   ]
  },
  {
   "cell_type": "code",
   "execution_count": 31,
   "id": "3f207b30-0563-4f8d-9e69-2d3c127766d6",
   "metadata": {},
   "outputs": [
    {
     "data": {
      "text/plain": [
       "array([ True,  True,  True, False,  True,  True,  True,  True,  True])"
      ]
     },
     "execution_count": 31,
     "metadata": {},
     "output_type": "execute_result"
    }
   ],
   "source": [
    "np.array(ZETA) < 0.1"
   ]
  },
  {
   "cell_type": "markdown",
   "id": "1f9024cb-0828-4638-abb0-5e0c81a6761f",
   "metadata": {},
   "source": [
    "### Interoperabilité : inconsistent !!!"
   ]
  }
 ],
 "metadata": {
  "kernelspec": {
   "display_name": "Python 3 (ipykernel)",
   "language": "python",
   "name": "python3"
  },
  "language_info": {
   "codemirror_mode": {
    "name": "ipython",
    "version": 3
   },
   "file_extension": ".py",
   "mimetype": "text/x-python",
   "name": "python",
   "nbconvert_exporter": "python",
   "pygments_lexer": "ipython3",
   "version": "3.12.1"
  }
 },
 "nbformat": 4,
 "nbformat_minor": 5
}
